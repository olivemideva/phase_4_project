{
 "cells": [
  {
   "cell_type": "markdown",
   "id": "d19ee6aa",
   "metadata": {},
   "source": [
    "## FINAL PROJECT SUBMISSION\n",
    "\n",
    "- GROUP 5\n",
    "\n",
    "STUDENT NAME:\n",
    "\n",
    "**- OLIVE MULOMA**\n",
    "\n",
    "**- ABIGAIL MWENDWA**\n",
    "\n",
    "**- HAWKINS MURITHI**\n",
    "\n",
    "**- HARRY ATULAH**\n",
    "\n",
    "STUDENT PACE: *FULL TIME/HYBRID*\n",
    "\n",
    "SCHEDULE PROJECT REVIEW DATE/TIME: *29TH JULY 2024*\n",
    "\n",
    "INSTRUCTOR NAME: **MARYANN MWIKALI**\n"
   ]
  },
  {
   "cell_type": "markdown",
   "id": "a94a738d",
   "metadata": {},
   "source": [
    "# NEWSNET PUBLISHING COMPANY"
   ]
  },
  {
   "cell_type": "markdown",
   "id": "b03a03f9",
   "metadata": {},
   "source": [
    "## BUSINESS OVERVIEW\n",
    "\n",
    "- In today's digital age, news consumption has skyrocketed, and with it, the challenge of efficiently managing and categorizing vast amounts of content. Automated text classification offers a solution by enabling efficient sorting of news articles into relevant categories such as Politics, Technology, Entertainment, and Business. This enhances user experience by ensuring that readers have quick access to content that interests them and assists in organizing and managing content for media companies."
   ]
  },
  {
   "cell_type": "markdown",
   "id": "a2abead4",
   "metadata": {},
   "source": [
    "## IMPORT REQUIRED LIBRARIES"
   ]
  },
  {
   "cell_type": "code",
   "execution_count": 2,
   "id": "e1ced231",
   "metadata": {},
   "outputs": [],
   "source": [
    "import pandas as pd \n",
    "import seaborn as sns\n",
    "import numpy as np\n",
    "from sklearn.feature_extraction.text import TfidfVectorizer\n",
    "from sklearn.model_selection import train_test_split\n",
    "from sklearn.model_selection import cross_val_score\n",
    "from sklearn.metrics import roc_auc_score, roc_curve, auc\n",
    "from itertools import cycle\n",
    "from sklearn.preprocessing import label_binarize\n",
    "from gensim.models import Word2Vec\n",
    "from sklearn.linear_model import LogisticRegression\n",
    "from sklearn.metrics import classification_report\n",
    "import matplotlib.pyplot as plt\n",
    "from sklearn.pipeline import Pipeline\n",
    "from sklearn.compose import ColumnTransformer\n",
    "from sklearn.feature_extraction.text import TfidfTransformer\n",
    "from tensorflow.keras.preprocessing.text import Tokenizer\n",
    "from tensorflow.keras.preprocessing.sequence import pad_sequences\n",
    "from sklearn.preprocessing import StandardScaler\n",
    "from sklearn.naive_bayes import MultinomialNB\n",
    "from sklearn.metrics import classification_report, confusion_matrix\n",
    "import string\n",
    "import pickle\n",
    "import nltk\n",
    "from wordcloud import WordCloud\n",
    "from nltk.corpus import stopwords\n",
    "from nltk.tokenize import word_tokenize\n",
    "from nltk.stem import WordNetLemmatizer\n",
    "from flask import Flask, request, jsonify, render_template_string\n",
    "import os\n",
    "import warnings\n",
    "warnings.filterwarnings('ignore')"
   ]
  },
  {
   "cell_type": "code",
   "execution_count": null,
   "id": "3c23227a",
   "metadata": {},
   "outputs": [],
   "source": []
  }
 ],
 "metadata": {
  "kernelspec": {
   "display_name": "Python 3 (ipykernel)",
   "language": "python",
   "name": "python3"
  },
  "language_info": {
   "codemirror_mode": {
    "name": "ipython",
    "version": 3
   },
   "file_extension": ".py",
   "mimetype": "text/x-python",
   "name": "python",
   "nbconvert_exporter": "python",
   "pygments_lexer": "ipython3",
   "version": "3.11.5"
  }
 },
 "nbformat": 4,
 "nbformat_minor": 5
}
