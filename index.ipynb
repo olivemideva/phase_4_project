{
 "cells": [
  {
   "cell_type": "markdown",
   "id": "695821c8",
   "metadata": {},
   "source": [
    "## FINAL PROJECT SUBMISSION\n",
    "\n",
    "- GROUP 5\n",
    "\n",
    "STUDENT NAME:\n",
    "\n",
    "**- OLIVE MULOMA**\n",
    "\n",
    "**- ABIGAIL MWENDWA**\n",
    "\n",
    "**- HAWKINS MURITHI**\n",
    "\n",
    "**- HARRY ATULAH**\n",
    "\n",
    "STUDENT PACE: *FULL TIME/HYBRID*\n",
    "\n",
    "SCHEDULE PROJECT REVIEW DATE/TIME: *29TH JULY 2024*\n",
    "\n",
    "INSTRUCTOR NAME: **MARYANN MWIKALI**\n"
   ]
  },
  {
   "cell_type": "markdown",
   "id": "ce2a113a",
   "metadata": {},
   "source": [
    "## NEWSNET PUBLISHING COMPANY"
   ]
  },
  {
   "cell_type": "markdown",
   "id": "9d3d8569",
   "metadata": {},
   "source": [
    "### BUSINESS OVERVIEW\n",
    "\n",
    "- In today's digital age, news consumption has skyrocketed, and with it, the challenge of efficiently managing and categorizing vast amounts of content. Automated text classification offers a solution by enabling efficient sorting of news articles into relevant categories such as Politics, Technology, Entertainment, and Business. This enhances user experience by ensuring that readers have quick access to content that interests them and assists in organizing and managing content for media companies."
   ]
  },
  {
   "cell_type": "markdown",
   "id": "8725e319",
   "metadata": {},
   "source": [
    "## IMPORT REQUIRED LIBRARIES"
   ]
  },
  {
   "cell_type": "code",
   "execution_count": 1,
   "id": "8222d786",
   "metadata": {},
   "outputs": [],
   "source": [
    "import pandas as pd \n",
    "import seaborn as sns\n",
    "import numpy as np\n",
    "from sklearn.feature_extraction.text import TfidfVectorizer\n",
    "from sklearn.model_selection import train_test_split\n",
    "from sklearn.model_selection import cross_val_score\n",
    "from sklearn.metrics import roc_auc_score, roc_curve, auc\n",
    "from itertools import cycle\n",
    "from sklearn.preprocessing import label_binarize\n",
    "from gensim.models import Word2Vec\n",
    "from sklearn.linear_model import LogisticRegression\n",
    "from sklearn.metrics import classification_report\n",
    "import matplotlib.pyplot as plt\n",
    "from sklearn.pipeline import Pipeline\n",
    "from sklearn.compose import ColumnTransformer\n",
    "from sklearn.feature_extraction.text import TfidfTransformer\n",
    "from tensorflow.keras.preprocessing.text import Tokenizer\n",
    "from tensorflow.keras.preprocessing.sequence import pad_sequences\n",
    "from sklearn.preprocessing import StandardScaler\n",
    "from sklearn.naive_bayes import MultinomialNB\n",
    "from sklearn.metrics import classification_report, confusion_matrix\n",
    "import string\n",
    "import pickle\n",
    "import nltk\n",
    "from wordcloud import WordCloud\n",
    "from nltk.corpus import stopwords\n",
    "from nltk.tokenize import word_tokenize\n",
    "from nltk.stem import WordNetLemmatizer\n",
    "from flask import Flask, request, jsonify, render_template_string\n",
    "import os\n",
    "import warnings\n",
    "warnings.filterwarnings('ignore')"
   ]
  },
  {
   "cell_type": "markdown",
   "id": "d47c7fab",
   "metadata": {},
   "source": [
    "## DATA UNDERSTANDING"
   ]
  },
  {
   "cell_type": "code",
   "execution_count": 2,
   "id": "2595ca40",
   "metadata": {},
   "outputs": [
    {
     "data": {
      "text/html": [
       "<div>\n",
       "<style scoped>\n",
       "    .dataframe tbody tr th:only-of-type {\n",
       "        vertical-align: middle;\n",
       "    }\n",
       "\n",
       "    .dataframe tbody tr th {\n",
       "        vertical-align: top;\n",
       "    }\n",
       "\n",
       "    .dataframe thead th {\n",
       "        text-align: right;\n",
       "    }\n",
       "</style>\n",
       "<table border=\"1\" class=\"dataframe\">\n",
       "  <thead>\n",
       "    <tr style=\"text-align: right;\">\n",
       "      <th></th>\n",
       "      <th>STORY</th>\n",
       "    </tr>\n",
       "  </thead>\n",
       "  <tbody>\n",
       "    <tr>\n",
       "      <th>0</th>\n",
       "      <td>2019 will see gadgets like gaming smartphones ...</td>\n",
       "    </tr>\n",
       "    <tr>\n",
       "      <th>1</th>\n",
       "      <td>It has also unleashed a wave of changes in the...</td>\n",
       "    </tr>\n",
       "    <tr>\n",
       "      <th>2</th>\n",
       "      <td>It can be confusing to pick the right smartpho...</td>\n",
       "    </tr>\n",
       "    <tr>\n",
       "      <th>3</th>\n",
       "      <td>The mobile application is integrated with a da...</td>\n",
       "    </tr>\n",
       "    <tr>\n",
       "      <th>4</th>\n",
       "      <td>We have rounded up some of the gadgets that sh...</td>\n",
       "    </tr>\n",
       "    <tr>\n",
       "      <th>5</th>\n",
       "      <td>\"Imagine if every message you sent was kept wi...</td>\n",
       "    </tr>\n",
       "    <tr>\n",
       "      <th>6</th>\n",
       "      <td>Positioned along the four sides of the Asus RO...</td>\n",
       "    </tr>\n",
       "    <tr>\n",
       "      <th>7</th>\n",
       "      <td>In fact, when I applied to USC film school the...</td>\n",
       "    </tr>\n",
       "    <tr>\n",
       "      <th>8</th>\n",
       "      <td>As spotted by Android Police, Netflix is testi...</td>\n",
       "    </tr>\n",
       "    <tr>\n",
       "      <th>9</th>\n",
       "      <td>Her moves were immaculately choreographed as s...</td>\n",
       "    </tr>\n",
       "  </tbody>\n",
       "</table>\n",
       "</div>"
      ],
      "text/plain": [
       "                                               STORY\n",
       "0  2019 will see gadgets like gaming smartphones ...\n",
       "1  It has also unleashed a wave of changes in the...\n",
       "2  It can be confusing to pick the right smartpho...\n",
       "3  The mobile application is integrated with a da...\n",
       "4  We have rounded up some of the gadgets that sh...\n",
       "5  \"Imagine if every message you sent was kept wi...\n",
       "6  Positioned along the four sides of the Asus RO...\n",
       "7  In fact, when I applied to USC film school the...\n",
       "8  As spotted by Android Police, Netflix is testi...\n",
       "9  Her moves were immaculately choreographed as s..."
      ]
     },
     "execution_count": 2,
     "metadata": {},
     "output_type": "execute_result"
    }
   ],
   "source": [
    "data_test = pd.read_csv(\"data/Data_Test.csv\", encoding='latin1')\n",
    "\n",
    "data_test.head(10)"
   ]
  },
  {
   "cell_type": "code",
   "execution_count": 3,
   "id": "e3b24c2a",
   "metadata": {},
   "outputs": [
    {
     "name": "stdout",
     "output_type": "stream",
     "text": [
      "<class 'pandas.core.frame.DataFrame'>\n",
      "RangeIndex: 2748 entries, 0 to 2747\n",
      "Data columns (total 1 columns):\n",
      " #   Column  Non-Null Count  Dtype \n",
      "---  ------  --------------  ----- \n",
      " 0   STORY   2748 non-null   object\n",
      "dtypes: object(1)\n",
      "memory usage: 21.6+ KB\n"
     ]
    }
   ],
   "source": [
    "data_test.info()"
   ]
  },
  {
   "cell_type": "markdown",
   "id": "515e03db",
   "metadata": {},
   "source": [
    "#### The DataFrame `data_test` has:\n",
    "\n",
    "- All entries in the \"STORY\" column are non-null and contain text data\n",
    "- The DataFrame occupies 21.6 KB of memory\n",
    "\n",
    "**- Description:**  The test dataset contains 2,748 rows and 1 column: STORY.\n",
    "\n",
    "\n",
    "**- STORY:** Contains the text of news articles, similar to the training dataset but without associated category labels.\n",
    "\n",
    "\n",
    "**-Usage:** This dataset is used to evaluate the performance of the trained model. The STORY column will be input to the model to predict the category labels, which can then be compared to actual labels (if available) or used for making predictions on new data."
   ]
  },
  {
   "cell_type": "code",
   "execution_count": 4,
   "id": "afa2ea30",
   "metadata": {},
   "outputs": [
    {
     "data": {
      "text/plain": [
       "(2748, 1)"
      ]
     },
     "execution_count": 4,
     "metadata": {},
     "output_type": "execute_result"
    }
   ],
   "source": [
    "data_test.shape"
   ]
  },
  {
   "cell_type": "code",
   "execution_count": 5,
   "id": "9b5b3e65",
   "metadata": {},
   "outputs": [
    {
     "data": {
      "text/html": [
       "<div>\n",
       "<style scoped>\n",
       "    .dataframe tbody tr th:only-of-type {\n",
       "        vertical-align: middle;\n",
       "    }\n",
       "\n",
       "    .dataframe tbody tr th {\n",
       "        vertical-align: top;\n",
       "    }\n",
       "\n",
       "    .dataframe thead th {\n",
       "        text-align: right;\n",
       "    }\n",
       "</style>\n",
       "<table border=\"1\" class=\"dataframe\">\n",
       "  <thead>\n",
       "    <tr style=\"text-align: right;\">\n",
       "      <th></th>\n",
       "      <th>STORY</th>\n",
       "      <th>SECTION</th>\n",
       "    </tr>\n",
       "  </thead>\n",
       "  <tbody>\n",
       "    <tr>\n",
       "      <th>0</th>\n",
       "      <td>But the most painful was the huge reversal in ...</td>\n",
       "      <td>3</td>\n",
       "    </tr>\n",
       "    <tr>\n",
       "      <th>1</th>\n",
       "      <td>How formidable is the opposition alliance amon...</td>\n",
       "      <td>0</td>\n",
       "    </tr>\n",
       "    <tr>\n",
       "      <th>2</th>\n",
       "      <td>Most Asian currencies were trading lower today...</td>\n",
       "      <td>3</td>\n",
       "    </tr>\n",
       "    <tr>\n",
       "      <th>3</th>\n",
       "      <td>If you want to answer any question, click on ...</td>\n",
       "      <td>1</td>\n",
       "    </tr>\n",
       "    <tr>\n",
       "      <th>4</th>\n",
       "      <td>In global markets, gold prices edged up today ...</td>\n",
       "      <td>3</td>\n",
       "    </tr>\n",
       "    <tr>\n",
       "      <th>5</th>\n",
       "      <td>BEIJING: Chinese tech giant Huawei has announc...</td>\n",
       "      <td>1</td>\n",
       "    </tr>\n",
       "    <tr>\n",
       "      <th>6</th>\n",
       "      <td>Mumbai: India Inc's external commercial borrow...</td>\n",
       "      <td>3</td>\n",
       "    </tr>\n",
       "    <tr>\n",
       "      <th>7</th>\n",
       "      <td>On Wednesday, Federal Reserve Chairman Jerome ...</td>\n",
       "      <td>3</td>\n",
       "    </tr>\n",
       "    <tr>\n",
       "      <th>8</th>\n",
       "      <td>What more can you give to the audience? I have...</td>\n",
       "      <td>2</td>\n",
       "    </tr>\n",
       "    <tr>\n",
       "      <th>9</th>\n",
       "      <td>com, Arbaaz Khan spoke about getting back to D...</td>\n",
       "      <td>2</td>\n",
       "    </tr>\n",
       "  </tbody>\n",
       "</table>\n",
       "</div>"
      ],
      "text/plain": [
       "                                               STORY  SECTION\n",
       "0  But the most painful was the huge reversal in ...        3\n",
       "1  How formidable is the opposition alliance amon...        0\n",
       "2  Most Asian currencies were trading lower today...        3\n",
       "3  If you want to answer any question, click on ...        1\n",
       "4  In global markets, gold prices edged up today ...        3\n",
       "5  BEIJING: Chinese tech giant Huawei has announc...        1\n",
       "6  Mumbai: India Inc's external commercial borrow...        3\n",
       "7  On Wednesday, Federal Reserve Chairman Jerome ...        3\n",
       "8  What more can you give to the audience? I have...        2\n",
       "9  com, Arbaaz Khan spoke about getting back to D...        2"
      ]
     },
     "execution_count": 5,
     "metadata": {},
     "output_type": "execute_result"
    }
   ],
   "source": [
    "data_train = pd.read_csv(\"data/Data_Train.csv\", encoding='latin1')\n",
    "\n",
    "data_train.head(10)"
   ]
  },
  {
   "cell_type": "code",
   "execution_count": 6,
   "id": "c63a647d",
   "metadata": {},
   "outputs": [
    {
     "name": "stdout",
     "output_type": "stream",
     "text": [
      "<class 'pandas.core.frame.DataFrame'>\n",
      "RangeIndex: 7628 entries, 0 to 7627\n",
      "Data columns (total 2 columns):\n",
      " #   Column   Non-Null Count  Dtype \n",
      "---  ------   --------------  ----- \n",
      " 0   STORY    7628 non-null   object\n",
      " 1   SECTION  7628 non-null   int64 \n",
      "dtypes: int64(1), object(1)\n",
      "memory usage: 119.3+ KB\n"
     ]
    }
   ],
   "source": [
    "data_train.info()"
   ]
  },
  {
   "cell_type": "markdown",
   "id": "5db9a65d",
   "metadata": {},
   "source": [
    "#### The DataFrame `data_train` has:\n",
    "    \n",
    "\n",
    "- All entries in both columns are non-null\n",
    "- The \"STORY\" column contains text data (`object` type)\n",
    "- The \"SECTION\" column contains integer data (`int64` type)\n",
    "- The DataFrame occupies 119.3 KB of memory\n",
    "\n",
    "**- Description:** The training dataset contains 7,628 rows and 2 columns: STORY and SECTION.\n",
    "\n",
    "\n",
    "**- STORY:** Contains the text of news articles, which will be used to train the model.\n",
    "\n",
    "\n",
    "**- SECTION:** Contains numerical labels representing different categories or topics (e.g., 0 for Politics, 1 for Technology, etc.), which are the target labels for classification.\n",
    "\n",
    "**- Usage:** - This dataset is used to train the text classification model. The STORY column provides the content for the model to learn from, while the SECTION column serves as the ground truth labels for supervised learning."
   ]
  },
  {
   "cell_type": "code",
   "execution_count": 7,
   "id": "fde9cf36",
   "metadata": {},
   "outputs": [
    {
     "data": {
      "text/plain": [
       "(7628, 2)"
      ]
     },
     "execution_count": 7,
     "metadata": {},
     "output_type": "execute_result"
    }
   ],
   "source": [
    "data_train.shape"
   ]
  },
  {
   "cell_type": "markdown",
   "id": "4dd43ae5",
   "metadata": {},
   "source": [
    "## DATA CLEANING"
   ]
  },
  {
   "cell_type": "markdown",
   "id": "1e569c83",
   "metadata": {},
   "source": [
    "### Checking for Duplicates"
   ]
  },
  {
   "cell_type": "code",
   "execution_count": 8,
   "id": "90bb8f1f",
   "metadata": {},
   "outputs": [
    {
     "data": {
      "text/html": [
       "<div>\n",
       "<style scoped>\n",
       "    .dataframe tbody tr th:only-of-type {\n",
       "        vertical-align: middle;\n",
       "    }\n",
       "\n",
       "    .dataframe tbody tr th {\n",
       "        vertical-align: top;\n",
       "    }\n",
       "\n",
       "    .dataframe thead th {\n",
       "        text-align: right;\n",
       "    }\n",
       "</style>\n",
       "<table border=\"1\" class=\"dataframe\">\n",
       "  <thead>\n",
       "    <tr style=\"text-align: right;\">\n",
       "      <th></th>\n",
       "      <th>STORY</th>\n",
       "      <th>SECTION</th>\n",
       "    </tr>\n",
       "  </thead>\n",
       "  <tbody>\n",
       "    <tr>\n",
       "      <th>587</th>\n",
       "      <td>Facebook, WhatsApp and Twitter have overhauled...</td>\n",
       "      <td>1</td>\n",
       "    </tr>\n",
       "    <tr>\n",
       "      <th>757</th>\n",
       "      <td>We will leave no stone unturned to make the au...</td>\n",
       "      <td>2</td>\n",
       "    </tr>\n",
       "    <tr>\n",
       "      <th>948</th>\n",
       "      <td>\"Marvel's 616,\" a documentary series exploring...</td>\n",
       "      <td>1</td>\n",
       "    </tr>\n",
       "    <tr>\n",
       "      <th>1472</th>\n",
       "      <td>Facebook, WhatsApp and Twitter have overhauled...</td>\n",
       "      <td>1</td>\n",
       "    </tr>\n",
       "    <tr>\n",
       "      <th>1831</th>\n",
       "      <td>We will leave no stone unturned to make the au...</td>\n",
       "      <td>2</td>\n",
       "    </tr>\n",
       "    <tr>\n",
       "      <th>...</th>\n",
       "      <td>...</td>\n",
       "      <td>...</td>\n",
       "    </tr>\n",
       "    <tr>\n",
       "      <th>7453</th>\n",
       "      <td>The whole feels like a giant set, stately and ...</td>\n",
       "      <td>2</td>\n",
       "    </tr>\n",
       "    <tr>\n",
       "      <th>7462</th>\n",
       "      <td>\"Monsters at Work,\" a series inspired by Pixar...</td>\n",
       "      <td>1</td>\n",
       "    </tr>\n",
       "    <tr>\n",
       "      <th>7465</th>\n",
       "      <td>Commenting on the upcoming Amazon summer sale ...</td>\n",
       "      <td>1</td>\n",
       "    </tr>\n",
       "    <tr>\n",
       "      <th>7474</th>\n",
       "      <td>Congress says it needs to verify whether there...</td>\n",
       "      <td>0</td>\n",
       "    </tr>\n",
       "    <tr>\n",
       "      <th>7553</th>\n",
       "      <td>This story has been published from a wire agen...</td>\n",
       "      <td>1</td>\n",
       "    </tr>\n",
       "  </tbody>\n",
       "</table>\n",
       "<p>77 rows × 2 columns</p>\n",
       "</div>"
      ],
      "text/plain": [
       "                                                  STORY  SECTION\n",
       "587   Facebook, WhatsApp and Twitter have overhauled...        1\n",
       "757   We will leave no stone unturned to make the au...        2\n",
       "948   \"Marvel's 616,\" a documentary series exploring...        1\n",
       "1472  Facebook, WhatsApp and Twitter have overhauled...        1\n",
       "1831  We will leave no stone unturned to make the au...        2\n",
       "...                                                 ...      ...\n",
       "7453  The whole feels like a giant set, stately and ...        2\n",
       "7462  \"Monsters at Work,\" a series inspired by Pixar...        1\n",
       "7465  Commenting on the upcoming Amazon summer sale ...        1\n",
       "7474  Congress says it needs to verify whether there...        0\n",
       "7553  This story has been published from a wire agen...        1\n",
       "\n",
       "[77 rows x 2 columns]"
      ]
     },
     "execution_count": 8,
     "metadata": {},
     "output_type": "execute_result"
    }
   ],
   "source": [
    "duplicates = data_train[data_train.duplicated()]\n",
    "\n",
    "duplicates"
   ]
  },
  {
   "cell_type": "markdown",
   "id": "7a413946",
   "metadata": {},
   "source": [
    "- We check for duplicate rows in the data_train DataFrame.In this case, it identified 77 duplicate rows with repeated STORY and SECTION values."
   ]
  },
  {
   "cell_type": "code",
   "execution_count": 9,
   "id": "eeddde34",
   "metadata": {},
   "outputs": [
    {
     "data": {
      "text/html": [
       "<div>\n",
       "<style scoped>\n",
       "    .dataframe tbody tr th:only-of-type {\n",
       "        vertical-align: middle;\n",
       "    }\n",
       "\n",
       "    .dataframe tbody tr th {\n",
       "        vertical-align: top;\n",
       "    }\n",
       "\n",
       "    .dataframe thead th {\n",
       "        text-align: right;\n",
       "    }\n",
       "</style>\n",
       "<table border=\"1\" class=\"dataframe\">\n",
       "  <thead>\n",
       "    <tr style=\"text-align: right;\">\n",
       "      <th></th>\n",
       "      <th>STORY</th>\n",
       "      <th>SECTION</th>\n",
       "    </tr>\n",
       "  </thead>\n",
       "  <tbody>\n",
       "    <tr>\n",
       "      <th>0</th>\n",
       "      <td>But the most painful was the huge reversal in ...</td>\n",
       "      <td>3</td>\n",
       "    </tr>\n",
       "    <tr>\n",
       "      <th>1</th>\n",
       "      <td>How formidable is the opposition alliance amon...</td>\n",
       "      <td>0</td>\n",
       "    </tr>\n",
       "    <tr>\n",
       "      <th>2</th>\n",
       "      <td>Most Asian currencies were trading lower today...</td>\n",
       "      <td>3</td>\n",
       "    </tr>\n",
       "    <tr>\n",
       "      <th>3</th>\n",
       "      <td>If you want to answer any question, click on ...</td>\n",
       "      <td>1</td>\n",
       "    </tr>\n",
       "    <tr>\n",
       "      <th>4</th>\n",
       "      <td>In global markets, gold prices edged up today ...</td>\n",
       "      <td>3</td>\n",
       "    </tr>\n",
       "    <tr>\n",
       "      <th>...</th>\n",
       "      <td>...</td>\n",
       "      <td>...</td>\n",
       "    </tr>\n",
       "    <tr>\n",
       "      <th>7623</th>\n",
       "      <td>Karnataka has been a Congress bastion, but it ...</td>\n",
       "      <td>0</td>\n",
       "    </tr>\n",
       "    <tr>\n",
       "      <th>7624</th>\n",
       "      <td>The film, which also features Janhvi Kapoor, w...</td>\n",
       "      <td>2</td>\n",
       "    </tr>\n",
       "    <tr>\n",
       "      <th>7625</th>\n",
       "      <td>The database has been created after bringing t...</td>\n",
       "      <td>1</td>\n",
       "    </tr>\n",
       "    <tr>\n",
       "      <th>7626</th>\n",
       "      <td>The state, which has had an uneasy relationshi...</td>\n",
       "      <td>0</td>\n",
       "    </tr>\n",
       "    <tr>\n",
       "      <th>7627</th>\n",
       "      <td>Virus stars Kunchacko Boban, Tovino Thomas, In...</td>\n",
       "      <td>2</td>\n",
       "    </tr>\n",
       "  </tbody>\n",
       "</table>\n",
       "<p>7551 rows × 2 columns</p>\n",
       "</div>"
      ],
      "text/plain": [
       "                                                  STORY  SECTION\n",
       "0     But the most painful was the huge reversal in ...        3\n",
       "1     How formidable is the opposition alliance amon...        0\n",
       "2     Most Asian currencies were trading lower today...        3\n",
       "3     If you want to answer any question, click on ...        1\n",
       "4     In global markets, gold prices edged up today ...        3\n",
       "...                                                 ...      ...\n",
       "7623  Karnataka has been a Congress bastion, but it ...        0\n",
       "7624  The film, which also features Janhvi Kapoor, w...        2\n",
       "7625  The database has been created after bringing t...        1\n",
       "7626  The state, which has had an uneasy relationshi...        0\n",
       "7627  Virus stars Kunchacko Boban, Tovino Thomas, In...        2\n",
       "\n",
       "[7551 rows x 2 columns]"
      ]
     },
     "execution_count": 9,
     "metadata": {},
     "output_type": "execute_result"
    }
   ],
   "source": [
    "data = data_train.drop_duplicates()\n",
    "\n",
    "data"
   ]
  },
  {
   "cell_type": "markdown",
   "id": "dc4b3bcd",
   "metadata": {},
   "source": [
    "- We then remove the duplicate rows identified in the previous step from the DataFrame.\n",
    "- The resulting DataFrame (data) now contains only unique rows. It reduced the total number of rows from 7628 to 7551, removing 77 duplicates."
   ]
  },
  {
   "cell_type": "markdown",
   "id": "47f03b9b",
   "metadata": {},
   "source": [
    "### Adding and Renaming Columns"
   ]
  },
  {
   "cell_type": "code",
   "execution_count": 10,
   "id": "9a35ff26",
   "metadata": {},
   "outputs": [
    {
     "data": {
      "text/html": [
       "<div>\n",
       "<style scoped>\n",
       "    .dataframe tbody tr th:only-of-type {\n",
       "        vertical-align: middle;\n",
       "    }\n",
       "\n",
       "    .dataframe tbody tr th {\n",
       "        vertical-align: top;\n",
       "    }\n",
       "\n",
       "    .dataframe thead th {\n",
       "        text-align: right;\n",
       "    }\n",
       "</style>\n",
       "<table border=\"1\" class=\"dataframe\">\n",
       "  <thead>\n",
       "    <tr style=\"text-align: right;\">\n",
       "      <th></th>\n",
       "      <th>STORY</th>\n",
       "      <th>SECTION</th>\n",
       "      <th>CATEGORY</th>\n",
       "    </tr>\n",
       "  </thead>\n",
       "  <tbody>\n",
       "    <tr>\n",
       "      <th>0</th>\n",
       "      <td>But the most painful was the huge reversal in ...</td>\n",
       "      <td>3</td>\n",
       "      <td>Business</td>\n",
       "    </tr>\n",
       "    <tr>\n",
       "      <th>1</th>\n",
       "      <td>How formidable is the opposition alliance amon...</td>\n",
       "      <td>0</td>\n",
       "      <td>Politics</td>\n",
       "    </tr>\n",
       "    <tr>\n",
       "      <th>2</th>\n",
       "      <td>Most Asian currencies were trading lower today...</td>\n",
       "      <td>3</td>\n",
       "      <td>Business</td>\n",
       "    </tr>\n",
       "    <tr>\n",
       "      <th>3</th>\n",
       "      <td>If you want to answer any question, click on ...</td>\n",
       "      <td>1</td>\n",
       "      <td>Technology</td>\n",
       "    </tr>\n",
       "    <tr>\n",
       "      <th>4</th>\n",
       "      <td>In global markets, gold prices edged up today ...</td>\n",
       "      <td>3</td>\n",
       "      <td>Business</td>\n",
       "    </tr>\n",
       "    <tr>\n",
       "      <th>5</th>\n",
       "      <td>BEIJING: Chinese tech giant Huawei has announc...</td>\n",
       "      <td>1</td>\n",
       "      <td>Technology</td>\n",
       "    </tr>\n",
       "    <tr>\n",
       "      <th>6</th>\n",
       "      <td>Mumbai: India Inc's external commercial borrow...</td>\n",
       "      <td>3</td>\n",
       "      <td>Business</td>\n",
       "    </tr>\n",
       "    <tr>\n",
       "      <th>7</th>\n",
       "      <td>On Wednesday, Federal Reserve Chairman Jerome ...</td>\n",
       "      <td>3</td>\n",
       "      <td>Business</td>\n",
       "    </tr>\n",
       "    <tr>\n",
       "      <th>8</th>\n",
       "      <td>What more can you give to the audience? I have...</td>\n",
       "      <td>2</td>\n",
       "      <td>Entertainment</td>\n",
       "    </tr>\n",
       "    <tr>\n",
       "      <th>9</th>\n",
       "      <td>com, Arbaaz Khan spoke about getting back to D...</td>\n",
       "      <td>2</td>\n",
       "      <td>Entertainment</td>\n",
       "    </tr>\n",
       "  </tbody>\n",
       "</table>\n",
       "</div>"
      ],
      "text/plain": [
       "                                               STORY  SECTION       CATEGORY\n",
       "0  But the most painful was the huge reversal in ...        3       Business\n",
       "1  How formidable is the opposition alliance amon...        0       Politics\n",
       "2  Most Asian currencies were trading lower today...        3       Business\n",
       "3  If you want to answer any question, click on ...        1     Technology\n",
       "4  In global markets, gold prices edged up today ...        3       Business\n",
       "5  BEIJING: Chinese tech giant Huawei has announc...        1     Technology\n",
       "6  Mumbai: India Inc's external commercial borrow...        3       Business\n",
       "7  On Wednesday, Federal Reserve Chairman Jerome ...        3       Business\n",
       "8  What more can you give to the audience? I have...        2  Entertainment\n",
       "9  com, Arbaaz Khan spoke about getting back to D...        2  Entertainment"
      ]
     },
     "execution_count": 10,
     "metadata": {},
     "output_type": "execute_result"
    }
   ],
   "source": [
    "category_labels = {0: 'Politics', 1: 'Technology', 2: 'Entertainment', 3: 'Business'}\n",
    "data['CATEGORY'] = data['SECTION'].map(category_labels)\n",
    "\n",
    "data.head(10)"
   ]
  },
  {
   "cell_type": "code",
   "execution_count": 11,
   "id": "79d3897e",
   "metadata": {},
   "outputs": [],
   "source": [
    "data.rename(columns={'STORY': 'TEXT'}, inplace=True)\n",
    "data.rename(columns={'CATEGORY': 'CATEGORY_LABELS'}, inplace=True)\n",
    "data.rename(columns={'SECTION': 'CATEGORY'}, inplace=True)"
   ]
  },
  {
   "cell_type": "code",
   "execution_count": 12,
   "id": "050be9b2",
   "metadata": {},
   "outputs": [
    {
     "data": {
      "text/html": [
       "<div>\n",
       "<style scoped>\n",
       "    .dataframe tbody tr th:only-of-type {\n",
       "        vertical-align: middle;\n",
       "    }\n",
       "\n",
       "    .dataframe tbody tr th {\n",
       "        vertical-align: top;\n",
       "    }\n",
       "\n",
       "    .dataframe thead th {\n",
       "        text-align: right;\n",
       "    }\n",
       "</style>\n",
       "<table border=\"1\" class=\"dataframe\">\n",
       "  <thead>\n",
       "    <tr style=\"text-align: right;\">\n",
       "      <th></th>\n",
       "      <th>TEXT</th>\n",
       "      <th>CATEGORY</th>\n",
       "      <th>CATEGORY_LABELS</th>\n",
       "    </tr>\n",
       "  </thead>\n",
       "  <tbody>\n",
       "    <tr>\n",
       "      <th>0</th>\n",
       "      <td>But the most painful was the huge reversal in ...</td>\n",
       "      <td>3</td>\n",
       "      <td>Business</td>\n",
       "    </tr>\n",
       "    <tr>\n",
       "      <th>1</th>\n",
       "      <td>How formidable is the opposition alliance amon...</td>\n",
       "      <td>0</td>\n",
       "      <td>Politics</td>\n",
       "    </tr>\n",
       "    <tr>\n",
       "      <th>2</th>\n",
       "      <td>Most Asian currencies were trading lower today...</td>\n",
       "      <td>3</td>\n",
       "      <td>Business</td>\n",
       "    </tr>\n",
       "    <tr>\n",
       "      <th>3</th>\n",
       "      <td>If you want to answer any question, click on ...</td>\n",
       "      <td>1</td>\n",
       "      <td>Technology</td>\n",
       "    </tr>\n",
       "    <tr>\n",
       "      <th>4</th>\n",
       "      <td>In global markets, gold prices edged up today ...</td>\n",
       "      <td>3</td>\n",
       "      <td>Business</td>\n",
       "    </tr>\n",
       "    <tr>\n",
       "      <th>5</th>\n",
       "      <td>BEIJING: Chinese tech giant Huawei has announc...</td>\n",
       "      <td>1</td>\n",
       "      <td>Technology</td>\n",
       "    </tr>\n",
       "    <tr>\n",
       "      <th>6</th>\n",
       "      <td>Mumbai: India Inc's external commercial borrow...</td>\n",
       "      <td>3</td>\n",
       "      <td>Business</td>\n",
       "    </tr>\n",
       "    <tr>\n",
       "      <th>7</th>\n",
       "      <td>On Wednesday, Federal Reserve Chairman Jerome ...</td>\n",
       "      <td>3</td>\n",
       "      <td>Business</td>\n",
       "    </tr>\n",
       "    <tr>\n",
       "      <th>8</th>\n",
       "      <td>What more can you give to the audience? I have...</td>\n",
       "      <td>2</td>\n",
       "      <td>Entertainment</td>\n",
       "    </tr>\n",
       "    <tr>\n",
       "      <th>9</th>\n",
       "      <td>com, Arbaaz Khan spoke about getting back to D...</td>\n",
       "      <td>2</td>\n",
       "      <td>Entertainment</td>\n",
       "    </tr>\n",
       "  </tbody>\n",
       "</table>\n",
       "</div>"
      ],
      "text/plain": [
       "                                                TEXT  CATEGORY CATEGORY_LABELS\n",
       "0  But the most painful was the huge reversal in ...         3        Business\n",
       "1  How formidable is the opposition alliance amon...         0        Politics\n",
       "2  Most Asian currencies were trading lower today...         3        Business\n",
       "3  If you want to answer any question, click on ...         1      Technology\n",
       "4  In global markets, gold prices edged up today ...         3        Business\n",
       "5  BEIJING: Chinese tech giant Huawei has announc...         1      Technology\n",
       "6  Mumbai: India Inc's external commercial borrow...         3        Business\n",
       "7  On Wednesday, Federal Reserve Chairman Jerome ...         3        Business\n",
       "8  What more can you give to the audience? I have...         2   Entertainment\n",
       "9  com, Arbaaz Khan spoke about getting back to D...         2   Entertainment"
      ]
     },
     "execution_count": 12,
     "metadata": {},
     "output_type": "execute_result"
    }
   ],
   "source": [
    "data.head(10)"
   ]
  },
  {
   "cell_type": "markdown",
   "id": "ffcd7b5d",
   "metadata": {},
   "source": [
    "**- STORY** is renamed to **TEXT**.\n",
    "\n",
    "\n",
    "**- CATEGORY** (newly added column) is renamed to **CATEGORY_LABELS** to avoid confusion.\n",
    "\n",
    "\n",
    "**- SECTION** is renamed to **CATEGORY** to better reflect its meaning."
   ]
  },
  {
   "cell_type": "markdown",
   "id": "b0456046",
   "metadata": {},
   "source": [
    "### Checking For Outliers"
   ]
  },
  {
   "cell_type": "code",
   "execution_count": 13,
   "id": "66179311",
   "metadata": {},
   "outputs": [
    {
     "data": {
      "image/png": "[encoded data removed]",
      "text/plain": [
       "<Figure size 640x480 with 1 Axes>"
      ]
     },
     "metadata": {},
     "output_type": "display_data"
    }
   ],
   "source": [
    "data['text_length'] = data['TEXT'].apply(len)\n",
    "sns.boxplot(data['text_length'])\n",
    "plt.show()"
   ]
  },
  {
   "cell_type": "markdown",
   "id": "735958ef-0709-440f-91d0-0d9c06ecb7da",
   "metadata": {},
   "source": [
    "- We chose not to remove the outliers because they provide unique insights and capture important linguistic diversity.\n",
    "- Keeping them helps our models handle real-world data better by reflecting different dialects, slang, and rare topics.\n",
    "- Outliers also address data imbalance, aid in error analysis, and ensure our models are robust and comprehensive. \n",
    "- In essence, including outliers enhances the overall performance and reliability of our NLP model."
   ]
  },
  {
   "cell_type": "markdown",
   "id": "dfd56cb0-8f99-4f9d-8f52-3dc88e8d900e",
   "metadata": {},
   "source": [
    "### Text Preprocess"
   ]
  },
  {
   "cell_type": "code",
   "execution_count": 14,
   "id": "6e6cc249-0f2b-46f5-b34f-fc97658dbde7",
   "metadata": {},
   "outputs": [],
   "source": [
    "# Lemmatizer\n",
    "lemmatizer = WordNetLemmatizer()\n",
    "\n",
    "# Definition stop words\n",
    "stop_words = set(stopwords.words('english'))\n",
    "\n",
    "def preprocess_text(text):\n",
    "    # Lowercase the text\n",
    "    text = text.lower()\n",
    "    \n",
    "    # Remove punctuation\n",
    "    text = text.translate(str.maketrans('', '', string.punctuation))\n",
    "    \n",
    "    # Tokenization\n",
    "    tokens = word_tokenize(text)\n",
    "    \n",
    "    # Removal of stop words and lemmatization\n",
    "    tokens = [lemmatizer.lemmatize(word) for word in tokens if word not in stop_words]\n",
    "    \n",
    "    processed_text = ' '.join(tokens)\n",
    "    \n",
    "    return processed_text\n",
    "\n",
    "data['PROCESSED_TEXT'] = data['TEXT'].apply(preprocess_text)"
   ]
  },
  {
   "cell_type": "code",
   "execution_count": 15,
   "id": "2000cbb8-68d3-4796-87b6-628da2c81e7c",
   "metadata": {},
   "outputs": [
    {
     "data": {
      "text/html": [
       "<div>\n",
       "<style scoped>\n",
       "    .dataframe tbody tr th:only-of-type {\n",
       "        vertical-align: middle;\n",
       "    }\n",
       "\n",
       "    .dataframe tbody tr th {\n",
       "        vertical-align: top;\n",
       "    }\n",
       "\n",
       "    .dataframe thead th {\n",
       "        text-align: right;\n",
       "    }\n",
       "</style>\n",
       "<table border=\"1\" class=\"dataframe\">\n",
       "  <thead>\n",
       "    <tr style=\"text-align: right;\">\n",
       "      <th></th>\n",
       "      <th>TEXT</th>\n",
       "      <th>CATEGORY</th>\n",
       "      <th>CATEGORY_LABELS</th>\n",
       "      <th>text_length</th>\n",
       "      <th>PROCESSED_TEXT</th>\n",
       "    </tr>\n",
       "  </thead>\n",
       "  <tbody>\n",
       "    <tr>\n",
       "      <th>0</th>\n",
       "      <td>But the most painful was the huge reversal in ...</td>\n",
       "      <td>3</td>\n",
       "      <td>Business</td>\n",
       "      <td>849</td>\n",
       "      <td>painful huge reversal fee income unheard among...</td>\n",
       "    </tr>\n",
       "    <tr>\n",
       "      <th>1</th>\n",
       "      <td>How formidable is the opposition alliance amon...</td>\n",
       "      <td>0</td>\n",
       "      <td>Politics</td>\n",
       "      <td>129</td>\n",
       "      <td>formidable opposition alliance among congress ...</td>\n",
       "    </tr>\n",
       "    <tr>\n",
       "      <th>2</th>\n",
       "      <td>Most Asian currencies were trading lower today...</td>\n",
       "      <td>3</td>\n",
       "      <td>Business</td>\n",
       "      <td>389</td>\n",
       "      <td>asian currency trading lower today south korea...</td>\n",
       "    </tr>\n",
       "    <tr>\n",
       "      <th>3</th>\n",
       "      <td>If you want to answer any question, click on ...</td>\n",
       "      <td>1</td>\n",
       "      <td>Technology</td>\n",
       "      <td>593</td>\n",
       "      <td>want answer question click answer clicking a...</td>\n",
       "    </tr>\n",
       "    <tr>\n",
       "      <th>4</th>\n",
       "      <td>In global markets, gold prices edged up today ...</td>\n",
       "      <td>3</td>\n",
       "      <td>Business</td>\n",
       "      <td>299</td>\n",
       "      <td>global market gold price edged today disappoin...</td>\n",
       "    </tr>\n",
       "    <tr>\n",
       "      <th>5</th>\n",
       "      <td>BEIJING: Chinese tech giant Huawei has announc...</td>\n",
       "      <td>1</td>\n",
       "      <td>Technology</td>\n",
       "      <td>404</td>\n",
       "      <td>beijing chinese tech giant huawei announced pl...</td>\n",
       "    </tr>\n",
       "    <tr>\n",
       "      <th>6</th>\n",
       "      <td>Mumbai: India Inc's external commercial borrow...</td>\n",
       "      <td>3</td>\n",
       "      <td>Business</td>\n",
       "      <td>529</td>\n",
       "      <td>mumbai india inc external commercial borrowing...</td>\n",
       "    </tr>\n",
       "    <tr>\n",
       "      <th>7</th>\n",
       "      <td>On Wednesday, Federal Reserve Chairman Jerome ...</td>\n",
       "      <td>3</td>\n",
       "      <td>Business</td>\n",
       "      <td>323</td>\n",
       "      <td>wednesday federal reserve chairman jerome powe...</td>\n",
       "    </tr>\n",
       "    <tr>\n",
       "      <th>8</th>\n",
       "      <td>What more can you give to the audience? I have...</td>\n",
       "      <td>2</td>\n",
       "      <td>Entertainment</td>\n",
       "      <td>215</td>\n",
       "      <td>give audience already done yeh hai aashiqui py...</td>\n",
       "    </tr>\n",
       "    <tr>\n",
       "      <th>9</th>\n",
       "      <td>com, Arbaaz Khan spoke about getting back to D...</td>\n",
       "      <td>2</td>\n",
       "      <td>Entertainment</td>\n",
       "      <td>245</td>\n",
       "      <td>com arbaaz khan spoke getting back dabangg sal...</td>\n",
       "    </tr>\n",
       "  </tbody>\n",
       "</table>\n",
       "</div>"
      ],
      "text/plain": [
       "                                                TEXT  CATEGORY  \\\n",
       "0  But the most painful was the huge reversal in ...         3   \n",
       "1  How formidable is the opposition alliance amon...         0   \n",
       "2  Most Asian currencies were trading lower today...         3   \n",
       "3  If you want to answer any question, click on ...         1   \n",
       "4  In global markets, gold prices edged up today ...         3   \n",
       "5  BEIJING: Chinese tech giant Huawei has announc...         1   \n",
       "6  Mumbai: India Inc's external commercial borrow...         3   \n",
       "7  On Wednesday, Federal Reserve Chairman Jerome ...         3   \n",
       "8  What more can you give to the audience? I have...         2   \n",
       "9  com, Arbaaz Khan spoke about getting back to D...         2   \n",
       "\n",
       "  CATEGORY_LABELS  text_length  \\\n",
       "0        Business          849   \n",
       "1        Politics          129   \n",
       "2        Business          389   \n",
       "3      Technology          593   \n",
       "4        Business          299   \n",
       "5      Technology          404   \n",
       "6        Business          529   \n",
       "7        Business          323   \n",
       "8   Entertainment          215   \n",
       "9   Entertainment          245   \n",
       "\n",
       "                                      PROCESSED_TEXT  \n",
       "0  painful huge reversal fee income unheard among...  \n",
       "1  formidable opposition alliance among congress ...  \n",
       "2  asian currency trading lower today south korea...  \n",
       "3  want answer question click answer clicking a...  \n",
       "4  global market gold price edged today disappoin...  \n",
       "5  beijing chinese tech giant huawei announced pl...  \n",
       "6  mumbai india inc external commercial borrowing...  \n",
       "7  wednesday federal reserve chairman jerome powe...  \n",
       "8  give audience already done yeh hai aashiqui py...  \n",
       "9  com arbaaz khan spoke getting back dabangg sal...  "
      ]
     },
     "execution_count": 15,
     "metadata": {},
     "output_type": "execute_result"
    }
   ],
   "source": [
    "data.head(10)"
   ]
  },
  {
   "cell_type": "markdown",
   "id": "31ebf9b7-2de6-4539-91d8-043817cb4789",
   "metadata": {},
   "source": [
    "# EXPLORATORY DATA ANALYSIS (EDA)"
   ]
  },
  {
   "cell_type": "markdown",
   "id": "f1b2db72-eb44-442b-bb1e-53a296f06de8",
   "metadata": {},
   "source": [
    "### Distribution of article length"
   ]
  },
  {
   "cell_type": "code",
   "execution_count": 16,
   "id": "0573adf8-da68-4781-94e5-4bbd662412a6",
   "metadata": {},
   "outputs": [
    {
     "data": {
      "image/png": "[encoded data removed]",
      "text/plain": [
       "<Figure size 640x480 with 1 Axes>"
      ]
     },
     "metadata": {},
     "output_type": "display_data"
    }
   ],
   "source": [
    "data['num_words'] = data.PROCESSED_TEXT.apply(len)\n",
    "sns.histplot(data.num_words);"
   ]
  },
  {
   "cell_type": "markdown",
   "id": "346e5708-8b88-4a27-8c7a-2febbc2baf9c",
   "metadata": {},
   "source": [
    "- This histogram helps us understand the distribution of article lengths in our dataset. \n",
    "- It shows that most articles are short to medium in length, with a few being much longer. \n",
    "- This insight helps us tailor our text processing and model training by revealing the typical text length and identifying any potential outliers."
   ]
  },
  {
   "cell_type": "markdown",
   "id": "dc00e2d1-bba4-45cb-904d-0f88e28b91c7",
   "metadata": {},
   "source": [
    "### Distribution of categories"
   ]
  },
  {
   "cell_type": "code",
   "execution_count": 17,
   "id": "9fe4b30b-a80e-460c-92a4-8b54ab84fb80",
   "metadata": {},
   "outputs": [
    {
     "data": {
      "image/png": "[encoded data removed]",
      "text/plain": [
       "<Figure size 640x480 with 1 Axes>"
      ]
     },
     "metadata": {},
     "output_type": "display_data"
    }
   ],
   "source": [
    "sns.set_style(\"whitegrid\")\n",
    "sns.countplot(x='CATEGORY', data=data)\n",
    "plt.xticks(rotation=90)\n",
    "plt.show()"
   ]
  },
  {
   "cell_type": "markdown",
   "id": "8316608b-de93-46d9-b42d-7b5067bf1b31",
   "metadata": {},
   "source": [
    "- This countplot reveals that Category 1 has the most articles compared to other categories. \n",
    "- Understanding this helps us see if our dataset is imbalanced, which is important for adjusting our model training to ensure it performs well across all categories, not just the most common ones."
   ]
  },
  {
   "cell_type": "code",
   "execution_count": null,
   "id": "dcd82170-99ef-4044-8bcb-45669c0816c6",
   "metadata": {},
   "outputs": [],
   "source": []
  }
 ],
 "metadata": {
  "kernelspec": {
   "display_name": "Python 3 (ipykernel)",
   "language": "python",
   "name": "python3"
  },
  "language_info": {
   "codemirror_mode": {
    "name": "ipython",
    "version": 3
   },
   "file_extension": ".py",
   "mimetype": "text/x-python",
   "name": "python",
   "nbconvert_exporter": "python",
   "pygments_lexer": "ipython3",
   "version": "3.8.5"
  }
 },
 "nbformat": 4,
 "nbformat_minor": 5
}
